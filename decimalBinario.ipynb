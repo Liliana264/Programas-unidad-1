{
  "nbformat": 4,
  "nbformat_minor": 0,
  "metadata": {
    "colab": {
      "provenance": [],
      "include_colab_link": true
    },
    "kernelspec": {
      "name": "python3",
      "display_name": "Python 3"
    },
    "language_info": {
      "name": "python"
    }
  },
  "cells": [
    {
      "cell_type": "markdown",
      "metadata": {
        "id": "view-in-github",
        "colab_type": "text"
      },
      "source": [
        "<a href=\"https://colab.research.google.com/github/Liliana264/Programas-unidad-1/blob/main/decimalBinario.ipynb\" target=\"_parent\"><img src=\"https://colab.research.google.com/assets/colab-badge.svg\" alt=\"Open In Colab\"/></a>"
      ]
    },
    {
      "cell_type": "code",
      "execution_count": null,
      "metadata": {
        "colab": {
          "base_uri": "https://localhost:8080/"
        },
        "id": "s7zyVswQrc9s",
        "outputId": "9983baca-f1c0-403a-9b52-41e4917cded6"
      },
      "outputs": [
        {
          "output_type": "stream",
          "name": "stdout",
          "text": [
            "Ingresa un número decimal para convertir a binario: 25\n",
            "El número binario es:\n",
            "11001\n"
          ]
        }
      ],
      "source": [
        "class Pila:\n",
        "    def __init__(self):\n",
        "        self.items = []\n",
        "\n",
        "    def push(self, item):\n",
        "        self.items.append(item)\n",
        "\n",
        "    def pop(self):\n",
        "        if not self.isEmpty():\n",
        "            return self.items.pop()\n",
        "        else:\n",
        "            return None\n",
        "    def isEmpty(self):\n",
        "        return self.items == []\n",
        "\n",
        "    def decimalBinario(self):\n",
        "        decimal = int(input(\"Ingresa un número decimal para convertir a binario: \"))\n",
        "        pila_binario = Pila()\n",
        "        if decimal == 0:\n",
        "            pila_binario.push(0)\n",
        "        else:\n",
        "            while decimal > 0:\n",
        "                residuo = decimal % 2\n",
        "                pila_binario.push(residuo)\n",
        "                decimal = decimal // 2\n",
        "        return pila_binario\n",
        "\n",
        "pb = Pila()\n",
        "pila_resultante = pb.decimalBinario()\n",
        "print(\"El número binario es:\")\n",
        "while not pila_resultante.isEmpty():\n",
        "    print(pila_resultante.pop(), end=\"\")\n",
        "print()"
      ]
    }
  ]
}