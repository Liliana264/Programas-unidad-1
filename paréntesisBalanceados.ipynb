{
  "nbformat": 4,
  "nbformat_minor": 0,
  "metadata": {
    "colab": {
      "provenance": [],
      "authorship_tag": "ABX9TyM3ByZiIxSiJJvPRH/Z8kd6",
      "include_colab_link": true
    },
    "kernelspec": {
      "name": "python3",
      "display_name": "Python 3"
    },
    "language_info": {
      "name": "python"
    }
  },
  "cells": [
    {
      "cell_type": "markdown",
      "metadata": {
        "id": "view-in-github",
        "colab_type": "text"
      },
      "source": [
        "<a href=\"https://colab.research.google.com/github/Liliana264/Programas-unidad-1/blob/main/par%C3%A9ntesisBalanceados.ipynb\" target=\"_parent\"><img src=\"https://colab.research.google.com/assets/colab-badge.svg\" alt=\"Open In Colab\"/></a>"
      ]
    },
    {
      "cell_type": "code",
      "execution_count": null,
      "metadata": {
        "colab": {
          "base_uri": "https://localhost:8080/"
        },
        "id": "ZKHG4V4eoeh-",
        "outputId": "be766b19-6e59-4632-8bcd-43e183bfaea7"
      },
      "outputs": [
        {
          "output_type": "stream",
          "name": "stdout",
          "text": [
            "Ingresa la expresion: ((a+b)*c\n",
            "La expresion no esta balanceada\n"
          ]
        }
      ],
      "source": [
        "class Pila:\n",
        "    def __init__(self):\n",
        "        self.items = []\n",
        "\n",
        "    def push(self, item):\n",
        "        self.items.append(item)\n",
        "\n",
        "    def pop(self):\n",
        "        if not self.isEmpty():\n",
        "            return self.items.pop()\n",
        "        else:\n",
        "            return None\n",
        "    def isEmpty(self):\n",
        "        return self.items == []\n",
        "class pB(Pila):\n",
        "  def __init__(self):\n",
        "    self.items = []\n",
        "  def agregarExpresion(self):\n",
        "    expresion = input(\"Ingresa la expresion: \")\n",
        "    return expresion\n",
        "  def parentesis(self):\n",
        "    expresion = self.agregarExpresion()\n",
        "    pila=Pila()\n",
        "    for letra in expresion:\n",
        "      if letra == '(':\n",
        "        pila.push(letra)\n",
        "      elif letra == ')':\n",
        "        if pila.isEmpty():\n",
        "          return False\n",
        "        else:\n",
        "          pila.pop()\n",
        "    return pila.isEmpty()\n",
        "\n",
        "pb=pB()\n",
        "if pb.parentesis():\n",
        "  print(\"La expresion esta balanceada\")\n",
        "else:\n",
        "  print(\"La expresion no esta balanceada\")"
      ]
    }
  ]
}