{
  "nbformat": 4,
  "nbformat_minor": 0,
  "metadata": {
    "colab": {
      "provenance": [],
      "authorship_tag": "ABX9TyMd4m71Ph8ONpY7x/1hAWdU",
      "include_colab_link": true
    },
    "kernelspec": {
      "name": "python3",
      "display_name": "Python 3"
    },
    "language_info": {
      "name": "python"
    }
  },
  "cells": [
    {
      "cell_type": "markdown",
      "metadata": {
        "id": "view-in-github",
        "colab_type": "text"
      },
      "source": [
        "<a href=\"https://colab.research.google.com/github/Liliana264/Programas-unidad-1/blob/main/Camino_m%C3%A1s_corto_con_BFS_.ipynb\" target=\"_parent\"><img src=\"https://colab.research.google.com/assets/colab-badge.svg\" alt=\"Open In Colab\"/></a>"
      ]
    },
    {
      "cell_type": "code",
      "execution_count": 12,
      "metadata": {
        "colab": {
          "base_uri": "https://localhost:8080/"
        },
        "id": "vCTI00iB1_H8",
        "outputId": "c8486305-9515-4adb-b92f-1c342edb824c"
      },
      "outputs": [
        {
          "output_type": "stream",
          "name": "stdout",
          "text": [
            "Distancias desde A: {'A': 0, 'B': 1, 'C': 1, 'D': 2, 'E': 2, 'F': 3}\n",
            "Distancia mínima entre A y F: 3\n"
          ]
        }
      ],
      "source": [
        "from collections import deque\n",
        "\n",
        "class Grafo:\n",
        "    def __init__(self):\n",
        "        self.ady = {}\n",
        "\n",
        "    def agregar_vertice(self, v):\n",
        "        if v not in self.ady:\n",
        "            self.ady[v] = []\n",
        "\n",
        "    def agregar_arista(self, v1, v2):\n",
        "        if v1 in self.ady and v2 in self.ady:\n",
        "            self.ady[v1].append(v2)\n",
        "            self.ady[v2].append(v1)\n",
        "\n",
        "    def bfs(self, inicio):\n",
        "        visitados = set()\n",
        "        cola = deque([(inicio, 0)])\n",
        "        distancias = {inicio: 0}\n",
        "        recorrido = []\n",
        "\n",
        "        while cola:\n",
        "            actual, distancia = cola.popleft()\n",
        "\n",
        "            if actual not in visitados:\n",
        "                visitados.add(actual)\n",
        "                recorrido.append(actual)\n",
        "\n",
        "                for vecino in self.ady[actual]:\n",
        "                    if vecino not in visitados:\n",
        "                        cola.append((vecino, distancia + 1))\n",
        "                        distancias[vecino] = distancia + 1\n",
        "\n",
        "        return distancias\n",
        "\n",
        "    def dfs(self, inicio):\n",
        "        visitados = set()\n",
        "        recorrido = []\n",
        "\n",
        "        def dfs_recursivo(nodo):\n",
        "            if nodo not in visitados:\n",
        "                visitados.add(nodo)\n",
        "                recorrido.append(nodo)\n",
        "                for vecino in self.ady[nodo]:\n",
        "                    dfs_recursivo(vecino)\n",
        "\n",
        "        dfs_recursivo(inicio)\n",
        "        return recorrido\n",
        "\n",
        "# Prueba\n",
        "g = Grafo()\n",
        "for v in [\"A\", \"B\", \"C\", \"D\", \"E\",\"F\"]:\n",
        "    g.agregar_vertice(v)\n",
        "\n",
        "g.agregar_arista(\"A\", \"B\")\n",
        "g.agregar_arista(\"A\", \"C\")\n",
        "g.agregar_arista(\"B\", \"D\")\n",
        "g.agregar_arista(\"C\", \"E\")\n",
        "g.agregar_arista(\"D\", \"F\")\n",
        "distancias_desde_A = g.bfs(\"A\")\n",
        "print(\"Distancias desde A:\", distancias_desde_A)\n",
        "\n",
        "nodo1 = \"A\"\n",
        "nodo2 = \"F\"\n",
        "if nodo1 in distancias_desde_A and nodo2 in distancias_desde_A:\n",
        "    print(f\"Distancia mínima entre {nodo1} y {nodo2}: {distancias_desde_A[nodo2]}\")\n",
        "else:\n",
        "    print(f\"No se pudo encontrar una ruta entre {nodo1} y {nodo2}\")"
      ]
    }
  ]
}